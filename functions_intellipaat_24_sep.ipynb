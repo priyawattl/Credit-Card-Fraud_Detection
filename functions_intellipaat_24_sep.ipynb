{
  "nbformat": 4,
  "nbformat_minor": 0,
  "metadata": {
    "colab": {
      "provenance": [],
      "collapsed_sections": [],
      "include_colab_link": true
    },
    "kernelspec": {
      "name": "python3",
      "display_name": "Python 3"
    },
    "language_info": {
      "name": "python"
    }
  },
  "cells": [
    {
      "cell_type": "markdown",
      "metadata": {
        "id": "view-in-github",
        "colab_type": "text"
      },
      "source": [
        "<a href=\"https://colab.research.google.com/github/priyawattl/Credit-Card-Fraud_Detection/blob/main/functions_intellipaat_24_sep.ipynb\" target=\"_parent\"><img src=\"https://colab.research.google.com/assets/colab-badge.svg\" alt=\"Open In Colab\"/></a>"
      ]
    },
    {
      "cell_type": "code",
      "execution_count": null,
      "metadata": {
        "id": "bdIMyFrX_Cn5"
      },
      "outputs": [],
      "source": [
        "#if statement\n",
        "#In if statement, if the condition of if block is true, then the statement inside the if block gets excecuted otherwise it is skipped.\n",
        "\n",
        "userLoggedIn=False\n",
        "\n",
        "if userLoggedIn:\n",
        "  print(\"Here is the user profile.\")"
      ]
    },
    {
      "cell_type": "code",
      "source": [],
      "metadata": {
        "id": "pPWkvcfYDpVL"
      },
      "execution_count": null,
      "outputs": []
    },
    {
      "cell_type": "code",
      "source": [
        "#if else statement\n",
        "#if the condition is True, then the statement inside the if block gets executed and if the condition is False then the statement inside \n",
        "#else block executed.\n",
        "marks=60\n",
        "if marks>80:\n",
        "  print(\"Excellent\")\n",
        "else:\n",
        "  print(\"Please work harder for next time\")"
      ],
      "metadata": {
        "colab": {
          "base_uri": "https://localhost:8080/"
        },
        "id": "b4lANqLXAgpX",
        "outputId": "da47e8df-1edb-44e6-8ea3-5cedefd8049b"
      },
      "execution_count": null,
      "outputs": [
        {
          "output_type": "stream",
          "name": "stdout",
          "text": [
            "Please work harder for next time\n"
          ]
        }
      ]
    },
    {
      "cell_type": "code",
      "source": [
        "#It is used whenever there is multiple conditions. First condition starts with if, all the middle conditions start with elif and the last\n",
        "#is else.\n",
        "\n",
        "age=25\n",
        "if age>1 and age<=5:\n",
        "  print(\"Lets go to amuzement park\")\n",
        "elif age>5 and age<=10:\n",
        "  print(\"Let's play some video games\")\n",
        "elif age>10 and age<=15:\n",
        "  print(\"Let's study\")\n",
        "elif age>15 and age<=20:\n",
        "  print(\"Lets make our future\")\n",
        "else:\n",
        "  print(\"Sit at home and relax\")\n"
      ],
      "metadata": {
        "colab": {
          "base_uri": "https://localhost:8080/"
        },
        "id": "3f4_RuoRDqWf",
        "outputId": "15383852-1ff3-4c7f-f318-4c5d3ebad3e3"
      },
      "execution_count": null,
      "outputs": [
        {
          "output_type": "stream",
          "name": "stdout",
          "text": [
            "Sit at home and relax\n"
          ]
        }
      ]
    },
    {
      "cell_type": "code",
      "source": [
        "#Loop means repeating a statement or group of statements again and again.\n",
        "#Sometimes we know how many times we have to repeat something and sometimes we don't know how many times we have to repeat something.\n",
        "#Most of the time when we know how many times we have to repeat something we use for loop.\n",
        "#When we don't know how many times we have to repeat something then we use while loop(It is based on condition).\n",
        "\n",
        "\n",
        "#range(start_value, end_value, step) range(0,5)->[0,1,2,3,4]\n",
        "\n",
        "#for condition:\n",
        "# statement\n",
        "for i in range(0,5):\n",
        "  print(i)\n",
        "\n",
        "# count=1\n",
        "# while condition:\n",
        "#   statement\n",
        "#   count=count+1\n",
        "\n",
        "count=0\n",
        "while count<5: \n",
        "  count=count+1\n",
        "  print(count)"
      ],
      "metadata": {
        "colab": {
          "base_uri": "https://localhost:8080/"
        },
        "id": "XLThOK0AIEjP",
        "outputId": "48819809-5e44-451a-dd6c-7483a8402bda"
      },
      "execution_count": null,
      "outputs": [
        {
          "output_type": "stream",
          "name": "stdout",
          "text": [
            "0\n",
            "1\n",
            "2\n",
            "3\n",
            "4\n",
            "1\n",
            "2\n",
            "3\n",
            "4\n",
            "5\n"
          ]
        }
      ]
    },
    {
      "cell_type": "code",
      "source": [
        "#Function is a named block of code.\n",
        "#Function is defined once but we can call it as many times as we want.\n",
        "#Function takes the input, it does the processing and gives the output. But input and output in function is optional(not manadatory).\n",
        "\n",
        "#Using parameters we give input to the function\n",
        "#And using return statement we give output from our function.\n",
        "\n",
        "def welcome():\n",
        "  print(\"Welcome to my home\")\n",
        "\n",
        "welcome()\n",
        "\n",
        "#A function will not be executed until and unless we don't call the function."
      ],
      "metadata": {
        "colab": {
          "base_uri": "https://localhost:8080/"
        },
        "id": "uWfIEPvmTuKE",
        "outputId": "b3ed663e-7099-43fc-ec9e-839ecdf33417"
      },
      "execution_count": null,
      "outputs": [
        {
          "output_type": "stream",
          "name": "stdout",
          "text": [
            "Welcome to my home\n"
          ]
        }
      ]
    },
    {
      "cell_type": "code",
      "source": [
        "#Function definition\n",
        "# def function_name(parameter):\n",
        "#   statement\n",
        "\n",
        "#Function calling\n",
        "#function_name(argument)\n",
        "\n",
        "\n",
        "def areaRect(length, breadth):\n",
        "  area=length*breadth\n",
        "  return area\n",
        "\n",
        "print(areaRect(4,5))\n",
        "\n",
        "#arguments are nothing but the values of the parameters"
      ],
      "metadata": {
        "colab": {
          "base_uri": "https://localhost:8080/"
        },
        "id": "b7HaVwDQUvlf",
        "outputId": "e3391669-8894-44dc-cc7c-7e79b36d270a"
      },
      "execution_count": null,
      "outputs": [
        {
          "output_type": "stream",
          "name": "stdout",
          "text": [
            "20\n"
          ]
        }
      ]
    },
    {
      "cell_type": "code",
      "source": [
        "def welcome(name):\n",
        "  #print(\"welcome \",name)\n",
        "  return \"welcome \"+name\n",
        "\n",
        "#name is my parameter. Using parameter we give input to our function.\n",
        "#Parameter is given at the time of function definition\n",
        "\n",
        "welcome(\"Ani\")\n",
        "\n",
        "#Argument is nothing but the value of the parameter.\n",
        "#Argument is given at the time of function calling.\n",
        "\n",
        "#Using return we give the output from our function.\n",
        "\n",
        "#But input and output is optional for a function."
      ],
      "metadata": {
        "colab": {
          "base_uri": "https://localhost:8080/"
        },
        "id": "R_C86CLUW3FB",
        "outputId": "6994d1d8-d0f5-438e-cd51-e2361257106c"
      },
      "execution_count": null,
      "outputs": [
        {
          "output_type": "stream",
          "name": "stdout",
          "text": [
            "welcome Ani\n"
          ]
        }
      ]
    },
    {
      "cell_type": "code",
      "source": [
        "def addTwoNumbers(num1,num2):\n",
        "  result=num1+num2\n",
        "  return result\n",
        "\n",
        "addTwoNumbers(4,3)"
      ],
      "metadata": {
        "colab": {
          "base_uri": "https://localhost:8080/"
        },
        "id": "L96aU6TScVbM",
        "outputId": "d702d9c6-1321-4134-88dc-7170244dab47"
      },
      "execution_count": null,
      "outputs": [
        {
          "output_type": "execute_result",
          "data": {
            "text/plain": [
              "7"
            ]
          },
          "metadata": {},
          "execution_count": 18
        }
      ]
    },
    {
      "cell_type": "code",
      "source": [
        "#print all the even numbers from 0 to 100 using just two statements."
      ],
      "metadata": {
        "id": "T3csZiuBdqKw"
      },
      "execution_count": null,
      "outputs": []
    },
    {
      "cell_type": "code",
      "source": [
        "for i in range(0,101,2):\n",
        "  print(i)"
      ],
      "metadata": {
        "colab": {
          "base_uri": "https://localhost:8080/"
        },
        "id": "7UlmJ7V4YGzG",
        "outputId": "28f1ad26-33c9-4034-aa2f-e0b021d60e5e"
      },
      "execution_count": null,
      "outputs": [
        {
          "output_type": "stream",
          "name": "stdout",
          "text": [
            "0\n",
            "2\n",
            "4\n",
            "6\n",
            "8\n",
            "10\n",
            "12\n",
            "14\n",
            "16\n",
            "18\n",
            "20\n",
            "22\n",
            "24\n",
            "26\n",
            "28\n",
            "30\n",
            "32\n",
            "34\n",
            "36\n",
            "38\n",
            "40\n",
            "42\n",
            "44\n",
            "46\n",
            "48\n",
            "50\n",
            "52\n",
            "54\n",
            "56\n",
            "58\n",
            "60\n",
            "62\n",
            "64\n",
            "66\n",
            "68\n",
            "70\n",
            "72\n",
            "74\n",
            "76\n",
            "78\n",
            "80\n",
            "82\n",
            "84\n",
            "86\n",
            "88\n",
            "90\n",
            "92\n",
            "94\n",
            "96\n",
            "98\n",
            "100\n"
          ]
        }
      ]
    },
    {
      "cell_type": "code",
      "source": [
        "#Create a function that will take numbers as an input and return odd if the number is odd and return even if the number is even.\n",
        "\n",
        "def oddOrEven(num):\n",
        "  if num%2==0:\n",
        "    return \"even\"\n",
        "  else:\n",
        "    return \"odd\"\n",
        "\n",
        "oddOrEven(5)"
      ],
      "metadata": {
        "colab": {
          "base_uri": "https://localhost:8080/",
          "height": 35
        },
        "id": "cEkiJrpAew5G",
        "outputId": "6c32dfee-a805-4d5e-b3cf-5500413afe21"
      },
      "execution_count": null,
      "outputs": [
        {
          "output_type": "execute_result",
          "data": {
            "text/plain": [
              "'odd'"
            ],
            "application/vnd.google.colaboratory.intrinsic+json": {
              "type": "string"
            }
          },
          "metadata": {},
          "execution_count": 21
        }
      ]
    },
    {
      "cell_type": "code",
      "source": [
        "names=[\"Sonu\",\"Radha\",\"Bunty\", \"Ani\"]\n",
        "for name in names:\n",
        "  print(name)\n",
        "\n",
        "  "
      ],
      "metadata": {
        "colab": {
          "base_uri": "https://localhost:8080/"
        },
        "id": "LqHWY_LwjItF",
        "outputId": "5da03335-b227-40bb-ba05-84a95d779082"
      },
      "execution_count": null,
      "outputs": [
        {
          "output_type": "stream",
          "name": "stdout",
          "text": [
            "Sonu\n",
            "Radha\n",
            "Bunty\n",
            "Ani\n"
          ]
        }
      ]
    },
    {
      "cell_type": "code",
      "source": [
        "para='''A computer is a digital electronic machine that can be programmed to carry out sequences of arithmetic or logical operations \n",
        "(computation) automatically. Modern computers can perform generic sets of operations known as programs. \n",
        "These programs enable computers to perform a wide range of tasks.'''\n",
        "\n",
        "count=0\n",
        "for i in para:\n",
        "  if i==\".\":\n",
        "    count=count+1\n",
        "\n",
        "print(count)\n"
      ],
      "metadata": {
        "colab": {
          "base_uri": "https://localhost:8080/"
        },
        "id": "UhkXqByshB8S",
        "outputId": "00be8e91-32c6-4475-a143-b8ad1d7c9703"
      },
      "execution_count": null,
      "outputs": [
        {
          "output_type": "stream",
          "name": "stdout",
          "text": [
            "3\n"
          ]
        }
      ]
    }
  ]
}